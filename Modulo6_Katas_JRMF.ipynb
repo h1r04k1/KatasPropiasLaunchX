{
 "cells": [
  {
   "cell_type": "markdown",
   "metadata": {},
   "source": [
    "# Crear y usar listas en python"
   ]
  },
  {
   "cell_type": "code",
   "execution_count": 3,
   "metadata": {},
   "outputs": [
    {
     "name": "stdout",
     "output_type": "stream",
     "text": [
      "El ultimo planeta agregado es:  pluton\n"
     ]
    }
   ],
   "source": [
    "# creamos la lista de planetas\n",
    "planetitas = ['mercurio','venus','tierra','marte','jupiter','saturno','urano','neptuno']\n",
    "\n",
    "#agregamos a pluton y mostramos el ultimo elemento\n",
    "planetitas.append('pluton')\n",
    "\n",
    "print(\"El ultimo planeta agregado es: \",planetitas[-1])\n",
    "\n"
   ]
  },
  {
   "cell_type": "markdown",
   "metadata": {},
   "source": [
    "# Trabajando con datos de una lista"
   ]
  },
  {
   "cell_type": "code",
   "execution_count": 4,
   "metadata": {},
   "outputs": [
    {
     "name": "stdout",
     "output_type": "stream",
     "text": [
      "3\n",
      "Los planetas mas lejanos son: ['jupiter', 'saturno', 'urano', 'neptuno']\n",
      "los planetas mas cercanos son: ['mercurio', 'venus', 'tierra']\n"
     ]
    }
   ],
   "source": [
    "\n",
    "planetitas2 = ['mercurio','venus','tierra','marte','jupiter','saturno','urano','neptuno']\n",
    "\n",
    "#solicita al usuario que escriba un planeta \n",
    "\n",
    "planetax = (input(\"escribe un planeta\")).lower()  # se convierte todo el texto a minuscula \n",
    "\n",
    "#buscar el planeta en la lista  (INDICE)\n",
    "planetaIndex = planetitas2.index(planetax)\n",
    "print(planetaIndex)\n",
    "\n",
    "#planetas mas alejados del sol\n",
    "planetasalejados = planetitas2[planetaIndex + 1:]\n",
    "print('Los planetas mas lejanos son:',planetasalejados)\n",
    "\n",
    "#planetas mas cercanos del sol\n",
    "planetascercanos = planetitas2[0:planetaIndex]\n",
    "print('los planetas mas cercanos son:',planetascercanos)\n"
   ]
  }
 ],
 "metadata": {
  "interpreter": {
   "hash": "0c07fa34495cdfa2f85fd17df4873f7e82503252876a4bb0382d269f440a0724"
  },
  "kernelspec": {
   "display_name": "Python 3.9.1 64-bit",
   "language": "python",
   "name": "python3"
  },
  "language_info": {
   "codemirror_mode": {
    "name": "ipython",
    "version": 3
   },
   "file_extension": ".py",
   "mimetype": "text/x-python",
   "name": "python",
   "nbconvert_exporter": "python",
   "pygments_lexer": "ipython3",
   "version": "3.9.1"
  },
  "orig_nbformat": 4
 },
 "nbformat": 4,
 "nbformat_minor": 2
}
