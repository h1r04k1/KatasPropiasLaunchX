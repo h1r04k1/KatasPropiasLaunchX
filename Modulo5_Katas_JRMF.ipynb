{
 "cells": [
  {
   "cell_type": "markdown",
   "metadata": {},
   "source": [
    "# Operadores Aritmeticos"
   ]
  },
  {
   "cell_type": "code",
   "execution_count": 3,
   "metadata": {},
   "outputs": [
    {
     "name": "stdout",
     "output_type": "stream",
     "text": [
      "628949330\n",
      "390577534\n"
     ]
    }
   ],
   "source": [
    "#distancia entre dos planetas\n",
    "#\n",
    "# \n",
    "#\n",
    "#\n",
    "#\n",
    "\n",
    "\n",
    "tierra = 149597870\n",
    "jupiter = 778547200\n",
    "\n",
    "distancia = jupiter - tierra\n",
    "print (distancia)\n",
    "\n",
    "millas = distancia * 0.621\n",
    "print (round (millas))\n",
    "\n",
    "\n"
   ]
  },
  {
   "cell_type": "markdown",
   "metadata": {},
   "source": [
    "# Cadenas a numeros"
   ]
  },
  {
   "cell_type": "code",
   "execution_count": 2,
   "metadata": {},
   "outputs": [
    {
     "name": "stdout",
     "output_type": "stream",
     "text": [
      "::::[distancias entre planetas]:::::::::::::::\n",
      " Mercurio__57900000 \n",
      " Venus__108200000 \n",
      " Tierra__149600000 \n",
      " Marte__227900000 \n",
      " Júpiter__778600000 \n",
      " Saturno__1433500000 \n",
      " Urano__2872500000 \n",
      " Neptuno__4495100000 \n",
      "\n",
      "::::selecciona dos planetas:::::\n",
      "\n",
      "la distancia en Km es :\n",
      "170000000\n",
      "la distancia en millas es:\n",
      "105570000.0\n"
     ]
    }
   ],
   "source": [
    "# Distancias entre planetas\n",
    "print (\"::::[distancias entre planetas]:::::::::::::::\")\n",
    "print (\" Mercurio__57900000 \\n Venus__108200000 \\n Tierra__149600000 \\n Marte__227900000 \\n Júpiter__778600000 \\n Saturno__1433500000 \\n Urano__2872500000 \\n Neptuno__4495100000 \\n\")\n",
    "print (\"::::selecciona dos planetas:::::\\n\")\n",
    "planeta1 = int (input(\"distancia del primer planeta\"))\n",
    "planeta2 = int (input(\"distancia del segundo planeta\"))\n",
    "distancia = abs(planeta1 - planeta2)\n",
    "print (\"la distancia en Km es :\")\n",
    "print (distancia)\n",
    "\n",
    "miyas= distancia * 0.621\n",
    "print (\"la distancia en millas es:\")\n",
    "print (miyas)\n"
   ]
  }
 ],
 "metadata": {
  "interpreter": {
   "hash": "0c07fa34495cdfa2f85fd17df4873f7e82503252876a4bb0382d269f440a0724"
  },
  "kernelspec": {
   "display_name": "Python 3.9.1 64-bit",
   "language": "python",
   "name": "python3"
  },
  "language_info": {
   "codemirror_mode": {
    "name": "ipython",
    "version": 3
   },
   "file_extension": ".py",
   "mimetype": "text/x-python",
   "name": "python",
   "nbconvert_exporter": "python",
   "pygments_lexer": "ipython3",
   "version": "3.9.1"
  },
  "orig_nbformat": 4
 },
 "nbformat": 4,
 "nbformat_minor": 2
}
