{
 "cells": [
  {
   "cell_type": "markdown",
   "metadata": {},
   "source": [
    "# Creacion de buble \"WHILE\""
   ]
  },
  {
   "cell_type": "code",
   "execution_count": 3,
   "metadata": {},
   "outputs": [
    {
     "name": "stdout",
     "output_type": "stream",
     "text": [
      "['mercurio', 'venus', 'tierra', 'titan']\n"
     ]
    }
   ],
   "source": [
    "#crea dos variables \n",
    "\n",
    "new_planet = ''\n",
    "planets = []\n",
    "\n",
    "#ciclo while \n",
    "\n",
    "while new_planet.lower() != 'done':\n",
    "    #Verificamos si hay un valor en new_planet\n",
    "    if new_planet:\n",
    "        #almacenamos el valor en la lista\n",
    "        planets.append(new_planet)\n",
    "    #capturamos un nuevo valor\n",
    "    new_planet = input('Escribe un nuevo planeta')\n",
    "print (planets)"
   ]
  },
  {
   "cell_type": "markdown",
   "metadata": {},
   "source": [
    "# Creacion ciclo \"FOR\""
   ]
  },
  {
   "cell_type": "code",
   "execution_count": 4,
   "metadata": {},
   "outputs": [
    {
     "name": "stdout",
     "output_type": "stream",
     "text": [
      "mercurio\n",
      "venus\n",
      "tierra\n",
      "titan\n"
     ]
    }
   ],
   "source": [
    "for planeta in planets:\n",
    "    print(planeta)\n"
   ]
  }
 ],
 "metadata": {
  "interpreter": {
   "hash": "0c07fa34495cdfa2f85fd17df4873f7e82503252876a4bb0382d269f440a0724"
  },
  "kernelspec": {
   "display_name": "Python 3.9.1 64-bit",
   "language": "python",
   "name": "python3"
  },
  "language_info": {
   "codemirror_mode": {
    "name": "ipython",
    "version": 3
   },
   "file_extension": ".py",
   "mimetype": "text/x-python",
   "name": "python",
   "nbconvert_exporter": "python",
   "pygments_lexer": "ipython3",
   "version": "3.9.1"
  },
  "orig_nbformat": 4
 },
 "nbformat": 4,
 "nbformat_minor": 2
}
