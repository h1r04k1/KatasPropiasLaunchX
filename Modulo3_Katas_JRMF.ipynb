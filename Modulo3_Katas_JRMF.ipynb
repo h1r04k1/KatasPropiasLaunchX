{
 "cells": [
  {
   "cell_type": "markdown",
   "metadata": {},
   "source": [
    "# escribir declaraciones IF,ELSE y ELIF"
   ]
  },
  {
   "cell_type": "code",
   "execution_count": 2,
   "metadata": {},
   "outputs": [
    {
     "name": "stdout",
     "output_type": "stream",
     "text": [
      ":::::::::::::::::::::::::::::::::::::::::::::\n",
      "::   SISTEMA DE ADVERTENCIA DE ASTEROIDES     \n",
      "::_______________[opciones]________________::\n",
      "::________1.- Asteroide cerca del SOL______::\n",
      "::_2.- Asteroide en la atmosfera terrestre_::\n",
      "::________3.- Tamaño del asteroide________::\n",
      ":::::::::::::::::::::::::::::::::::::::::::::\n",
      ":::::::::::::::::::::::::::::::::::::::::::\n",
      "::_________Tamaño del asteroide__________::\n",
      ":::::::::::::::::::::::::::::::::::::::::::\n",
      ":: Todos vamos a morir::\n"
     ]
    }
   ],
   "source": [
    "# velocidad mayor a 25 km/s meree advertencia\n",
    "# dependiendo de lo cerca que este del sol\n",
    "#\n",
    "# atmosfera de la tierra \n",
    "# velocidad mayor o igual a 20 km/s  aveces produce un rayo de luz que se puede ver desde la tierra\n",
    "# si hay uno de 19 km que busquen un asteroide en el cielo\n",
    "\n",
    "\n",
    "\n",
    "vel = 0\n",
    "opt = 0\n",
    "dim = 0\n",
    "\n",
    "print(\":::::::::::::::::::::::::::::::::::::::::::::\")\n",
    "print(\"::   SISTEMA DE ADVERTENCIA DE ASTEROIDES     \")\n",
    "print(\"::_______________[opciones]________________::\")\n",
    "print(\"::________1.- Asteroide cerca del SOL______::\")\n",
    "print(\"::_2.- Asteroide en la atmosfera terrestre_::\")\n",
    "print (\"::________3.- Tamaño del asteroide________::\")\n",
    "print(\":::::::::::::::::::::::::::::::::::::::::::::\")\n",
    "opt = int (input(\"::__________escribe tu opcion______________::\"))\n",
    "\n",
    "if opt == 1:\n",
    "    print(\":::::::::::::::::::::::::::::::::::::::::\") \n",
    "    print(\"::_______ASTEROIDES CERCA DEL SOL______::\")\n",
    "    print(\":::::::::::::::::::::::::::::::::::::::::\") \n",
    "    vel = int( input(\"::_______velocidad del asteroide______ ::\"))\n",
    "    if vel > 25:\n",
    "        print(\"// // // [PELIGRO RIESGO INMINENTE] // // //\")\n",
    "    else:\n",
    "        print(\"::_______TODO TRANQUILO______::\")\n",
    "\n",
    "elif opt == 2:\n",
    "    print(\":::::::::::::::::::::::::::::::::::::::::::\") \n",
    "    print(\"::_______ASTEROIDES EN LA ATMOSFERA______::\")\n",
    "    print(\":::::::::::::::::::::::::::::::::::::::::::\") \n",
    "    vel = int (input(\"::_______velocidad del asteroide______ ::\"))\n",
    "    if vel >= 20:\n",
    "        print(\"::____Destellos de luz en el cielo_____::\")\n",
    "    elif vel == 19:\n",
    "        print(\"::______Busquen un asteroide en el cielo_______::\")\n",
    "    else:\n",
    "        print(\"::______TODO TRANQUILO_____::\")\n",
    "\n",
    "elif opt == 3:\n",
    "    # los asteroides de -25 m de dimension se quemaran al entrar en la tierra\n",
    "    # si es +25 pero -100 la golpeara en la tierra y causara daño\n",
    "    print(\":::::::::::::::::::::::::::::::::::::::::::\") \n",
    "    print(\"::_________Tamaño del asteroide__________::\")\n",
    "    print(\":::::::::::::::::::::::::::::::::::::::::::\") \n",
    "    dim = int (input(\"::_______escriba el tamaño del asteroide _____ ::\"))\n",
    "    if dim < 25:\n",
    "        print(\":: Asteroide rostizado para todos::\")\n",
    "    elif dim > 25 and dim < 1000:\n",
    "        print(\":: Todos vamos a morir::\")\n",
    "    else:\n",
    "        print(\":: DATOS INSUFICIENTES PARA RESPUESTA SIGNIFICATIVA::\")\n",
    "\n",
    "else:\n",
    "    print (\"opcion no valida\")\n",
    "\n"
   ]
  }
 ],
 "metadata": {
  "interpreter": {
   "hash": "0c07fa34495cdfa2f85fd17df4873f7e82503252876a4bb0382d269f440a0724"
  },
  "kernelspec": {
   "display_name": "Python 3.9.1 64-bit",
   "language": "python",
   "name": "python3"
  },
  "language_info": {
   "codemirror_mode": {
    "name": "ipython",
    "version": 3
   },
   "file_extension": ".py",
   "mimetype": "text/x-python",
   "name": "python",
   "nbconvert_exporter": "python",
   "pygments_lexer": "ipython3",
   "version": "3.9.1"
  },
  "orig_nbformat": 4
 },
 "nbformat": 4,
 "nbformat_minor": 2
}
