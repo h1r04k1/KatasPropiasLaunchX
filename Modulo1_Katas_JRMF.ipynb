{
 "cells": [
  {
   "cell_type": "markdown",
   "metadata": {},
   "source": [
    "# Primer programa"
   ]
  },
  {
   "cell_type": "code",
   "execution_count": 2,
   "metadata": {},
   "outputs": [
    {
     "name": "stdout",
     "output_type": "stream",
     "text": [
      "La fecha estelar es: 2022-02-08\n"
     ]
    }
   ],
   "source": [
    "from datetime import date\n",
    "fecha_estelar = date.today()\n",
    "print(\"La fecha estelar es: \"+ str (fecha_estelar))"
   ]
  },
  {
   "cell_type": "markdown",
   "metadata": {},
   "source": [
    "# Conversor de Unidades"
   ]
  },
  {
   "cell_type": "code",
   "execution_count": 1,
   "metadata": {},
   "outputs": [
    {
     "name": "stdout",
     "output_type": "stream",
     "text": [
      ":::::::::::::::::::::::::::::::::::::::::::::\n",
      "::: BIENVENIDO AL CONVERTIDOR DE UNIDADES :::\n",
      ":::::::::::::::::::::::::::::::::::::::::::::\n",
      "::::: TOTAL DE AÑOS LUZ ::::::_6.52312\n",
      ":::::::::::::::::::::::::::::::::::::::::::::\n"
     ]
    }
   ],
   "source": [
    "# parsec = 3.26156 años luz \n",
    " \n",
    " \n",
    "print (\":::::::::::::::::::::::::::::::::::::::::::::\")\n",
    "print (\"::: BIENVENIDO AL CONVERTIDOR DE UNIDADES :::\")\n",
    "print (\":::::::::::::::::::::::::::::::::::::::::::::\")\n",
    "parsec = float (input(\"introduce la cantidad de parsecs __\"))\n",
    "lightyear = parsec * 3.26156\n",
    "print (\"::::: TOTAL DE AÑOS LUZ ::::::_\" + str(lightyear))\n",
    "print (\":::::::::::::::::::::::::::::::::::::::::::::\")\n",
    " \n"
   ]
  }
 ],
 "metadata": {
  "interpreter": {
   "hash": "0c07fa34495cdfa2f85fd17df4873f7e82503252876a4bb0382d269f440a0724"
  },
  "kernelspec": {
   "display_name": "Python 3.9.1 64-bit",
   "language": "python",
   "name": "python3"
  },
  "language_info": {
   "codemirror_mode": {
    "name": "ipython",
    "version": 3
   },
   "file_extension": ".py",
   "mimetype": "text/x-python",
   "name": "python",
   "nbconvert_exporter": "python",
   "pygments_lexer": "ipython3",
   "version": "3.9.1"
  },
  "orig_nbformat": 4
 },
 "nbformat": 4,
 "nbformat_minor": 2
}
